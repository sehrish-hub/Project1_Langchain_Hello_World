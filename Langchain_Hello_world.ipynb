{
  "nbformat": 4,
  "nbformat_minor": 0,
  "metadata": {
    "colab": {
      "provenance": [],
      "gpuType": "T4"
    },
    "kernelspec": {
      "name": "python3",
      "display_name": "Python 3"
    },
    "language_info": {
      "name": "python"
    },
    "accelerator": "GPU"
  },
  "cells": [
    {
      "cell_type": "markdown",
      "source": [
        "LangChain is a framework designed to help developers build applications that integrate with Large Language Models (LLMs) like OpenAI's GPT or Hugging Face models. It simplifies tasks like chaining together multiple LLM calls, integrating external data sources, and building dynamic workflows for advanced natural language processing applications.\n"
      ],
      "metadata": {
        "id": "d-fhvHF3t_9X"
      }
    },
    {
      "cell_type": "code",
      "execution_count": 1,
      "metadata": {
        "colab": {
          "base_uri": "https://localhost:8080/"
        },
        "id": "nAMifkUes0A9",
        "outputId": "414deaf4-4d47-4842-cde9-9f3c1630ed9b"
      },
      "outputs": [
        {
          "output_type": "stream",
          "name": "stdout",
          "text": [
            "Requirement already satisfied: langchain in /usr/local/lib/python3.10/dist-packages (0.3.12)\n",
            "Collecting langchain-google-genai\n",
            "  Downloading langchain_google_genai-2.0.7-py3-none-any.whl.metadata (3.6 kB)\n",
            "Requirement already satisfied: PyYAML>=5.3 in /usr/local/lib/python3.10/dist-packages (from langchain) (6.0.2)\n",
            "Requirement already satisfied: SQLAlchemy<3,>=1.4 in /usr/local/lib/python3.10/dist-packages (from langchain) (2.0.36)\n",
            "Requirement already satisfied: aiohttp<4.0.0,>=3.8.3 in /usr/local/lib/python3.10/dist-packages (from langchain) (3.11.10)\n",
            "Requirement already satisfied: async-timeout<5.0.0,>=4.0.0 in /usr/local/lib/python3.10/dist-packages (from langchain) (4.0.3)\n",
            "Requirement already satisfied: langchain-core<0.4.0,>=0.3.25 in /usr/local/lib/python3.10/dist-packages (from langchain) (0.3.25)\n",
            "Requirement already satisfied: langchain-text-splitters<0.4.0,>=0.3.3 in /usr/local/lib/python3.10/dist-packages (from langchain) (0.3.3)\n",
            "Requirement already satisfied: langsmith<0.3,>=0.1.17 in /usr/local/lib/python3.10/dist-packages (from langchain) (0.2.3)\n",
            "Requirement already satisfied: numpy<2,>=1.22.4 in /usr/local/lib/python3.10/dist-packages (from langchain) (1.26.4)\n",
            "Requirement already satisfied: pydantic<3.0.0,>=2.7.4 in /usr/local/lib/python3.10/dist-packages (from langchain) (2.10.3)\n",
            "Requirement already satisfied: requests<3,>=2 in /usr/local/lib/python3.10/dist-packages (from langchain) (2.32.3)\n",
            "Requirement already satisfied: tenacity!=8.4.0,<10,>=8.1.0 in /usr/local/lib/python3.10/dist-packages (from langchain) (9.0.0)\n",
            "Collecting filetype<2.0.0,>=1.2.0 (from langchain-google-genai)\n",
            "  Downloading filetype-1.2.0-py2.py3-none-any.whl.metadata (6.5 kB)\n",
            "Requirement already satisfied: google-generativeai<0.9.0,>=0.8.0 in /usr/local/lib/python3.10/dist-packages (from langchain-google-genai) (0.8.3)\n",
            "Requirement already satisfied: aiohappyeyeballs>=2.3.0 in /usr/local/lib/python3.10/dist-packages (from aiohttp<4.0.0,>=3.8.3->langchain) (2.4.4)\n",
            "Requirement already satisfied: aiosignal>=1.1.2 in /usr/local/lib/python3.10/dist-packages (from aiohttp<4.0.0,>=3.8.3->langchain) (1.3.2)\n",
            "Requirement already satisfied: attrs>=17.3.0 in /usr/local/lib/python3.10/dist-packages (from aiohttp<4.0.0,>=3.8.3->langchain) (24.3.0)\n",
            "Requirement already satisfied: frozenlist>=1.1.1 in /usr/local/lib/python3.10/dist-packages (from aiohttp<4.0.0,>=3.8.3->langchain) (1.5.0)\n",
            "Requirement already satisfied: multidict<7.0,>=4.5 in /usr/local/lib/python3.10/dist-packages (from aiohttp<4.0.0,>=3.8.3->langchain) (6.1.0)\n",
            "Requirement already satisfied: propcache>=0.2.0 in /usr/local/lib/python3.10/dist-packages (from aiohttp<4.0.0,>=3.8.3->langchain) (0.2.1)\n",
            "Requirement already satisfied: yarl<2.0,>=1.17.0 in /usr/local/lib/python3.10/dist-packages (from aiohttp<4.0.0,>=3.8.3->langchain) (1.18.3)\n",
            "Requirement already satisfied: google-ai-generativelanguage==0.6.10 in /usr/local/lib/python3.10/dist-packages (from google-generativeai<0.9.0,>=0.8.0->langchain-google-genai) (0.6.10)\n",
            "Requirement already satisfied: google-api-core in /usr/local/lib/python3.10/dist-packages (from google-generativeai<0.9.0,>=0.8.0->langchain-google-genai) (2.19.2)\n",
            "Requirement already satisfied: google-api-python-client in /usr/local/lib/python3.10/dist-packages (from google-generativeai<0.9.0,>=0.8.0->langchain-google-genai) (2.155.0)\n",
            "Requirement already satisfied: google-auth>=2.15.0 in /usr/local/lib/python3.10/dist-packages (from google-generativeai<0.9.0,>=0.8.0->langchain-google-genai) (2.27.0)\n",
            "Requirement already satisfied: protobuf in /usr/local/lib/python3.10/dist-packages (from google-generativeai<0.9.0,>=0.8.0->langchain-google-genai) (4.25.5)\n",
            "Requirement already satisfied: tqdm in /usr/local/lib/python3.10/dist-packages (from google-generativeai<0.9.0,>=0.8.0->langchain-google-genai) (4.67.1)\n",
            "Requirement already satisfied: typing-extensions in /usr/local/lib/python3.10/dist-packages (from google-generativeai<0.9.0,>=0.8.0->langchain-google-genai) (4.12.2)\n",
            "Requirement already satisfied: proto-plus<2.0.0dev,>=1.22.3 in /usr/local/lib/python3.10/dist-packages (from google-ai-generativelanguage==0.6.10->google-generativeai<0.9.0,>=0.8.0->langchain-google-genai) (1.25.0)\n",
            "Requirement already satisfied: jsonpatch<2.0,>=1.33 in /usr/local/lib/python3.10/dist-packages (from langchain-core<0.4.0,>=0.3.25->langchain) (1.33)\n",
            "Requirement already satisfied: packaging<25,>=23.2 in /usr/local/lib/python3.10/dist-packages (from langchain-core<0.4.0,>=0.3.25->langchain) (24.2)\n",
            "Requirement already satisfied: httpx<1,>=0.23.0 in /usr/local/lib/python3.10/dist-packages (from langsmith<0.3,>=0.1.17->langchain) (0.28.1)\n",
            "Requirement already satisfied: orjson<4.0.0,>=3.9.14 in /usr/local/lib/python3.10/dist-packages (from langsmith<0.3,>=0.1.17->langchain) (3.10.12)\n",
            "Requirement already satisfied: requests-toolbelt<2.0.0,>=1.0.0 in /usr/local/lib/python3.10/dist-packages (from langsmith<0.3,>=0.1.17->langchain) (1.0.0)\n",
            "Requirement already satisfied: annotated-types>=0.6.0 in /usr/local/lib/python3.10/dist-packages (from pydantic<3.0.0,>=2.7.4->langchain) (0.7.0)\n",
            "Requirement already satisfied: pydantic-core==2.27.1 in /usr/local/lib/python3.10/dist-packages (from pydantic<3.0.0,>=2.7.4->langchain) (2.27.1)\n",
            "Requirement already satisfied: charset-normalizer<4,>=2 in /usr/local/lib/python3.10/dist-packages (from requests<3,>=2->langchain) (3.4.0)\n",
            "Requirement already satisfied: idna<4,>=2.5 in /usr/local/lib/python3.10/dist-packages (from requests<3,>=2->langchain) (3.10)\n",
            "Requirement already satisfied: urllib3<3,>=1.21.1 in /usr/local/lib/python3.10/dist-packages (from requests<3,>=2->langchain) (2.2.3)\n",
            "Requirement already satisfied: certifi>=2017.4.17 in /usr/local/lib/python3.10/dist-packages (from requests<3,>=2->langchain) (2024.12.14)\n",
            "Requirement already satisfied: greenlet!=0.4.17 in /usr/local/lib/python3.10/dist-packages (from SQLAlchemy<3,>=1.4->langchain) (3.1.1)\n",
            "Requirement already satisfied: googleapis-common-protos<2.0.dev0,>=1.56.2 in /usr/local/lib/python3.10/dist-packages (from google-api-core->google-generativeai<0.9.0,>=0.8.0->langchain-google-genai) (1.66.0)\n",
            "Requirement already satisfied: cachetools<6.0,>=2.0.0 in /usr/local/lib/python3.10/dist-packages (from google-auth>=2.15.0->google-generativeai<0.9.0,>=0.8.0->langchain-google-genai) (5.5.0)\n",
            "Requirement already satisfied: pyasn1-modules>=0.2.1 in /usr/local/lib/python3.10/dist-packages (from google-auth>=2.15.0->google-generativeai<0.9.0,>=0.8.0->langchain-google-genai) (0.4.1)\n",
            "Requirement already satisfied: rsa<5,>=3.1.4 in /usr/local/lib/python3.10/dist-packages (from google-auth>=2.15.0->google-generativeai<0.9.0,>=0.8.0->langchain-google-genai) (4.9)\n",
            "Requirement already satisfied: anyio in /usr/local/lib/python3.10/dist-packages (from httpx<1,>=0.23.0->langsmith<0.3,>=0.1.17->langchain) (3.7.1)\n",
            "Requirement already satisfied: httpcore==1.* in /usr/local/lib/python3.10/dist-packages (from httpx<1,>=0.23.0->langsmith<0.3,>=0.1.17->langchain) (1.0.7)\n",
            "Requirement already satisfied: h11<0.15,>=0.13 in /usr/local/lib/python3.10/dist-packages (from httpcore==1.*->httpx<1,>=0.23.0->langsmith<0.3,>=0.1.17->langchain) (0.14.0)\n",
            "Requirement already satisfied: jsonpointer>=1.9 in /usr/local/lib/python3.10/dist-packages (from jsonpatch<2.0,>=1.33->langchain-core<0.4.0,>=0.3.25->langchain) (3.0.0)\n",
            "Requirement already satisfied: httplib2<1.dev0,>=0.19.0 in /usr/local/lib/python3.10/dist-packages (from google-api-python-client->google-generativeai<0.9.0,>=0.8.0->langchain-google-genai) (0.22.0)\n",
            "Requirement already satisfied: google-auth-httplib2<1.0.0,>=0.2.0 in /usr/local/lib/python3.10/dist-packages (from google-api-python-client->google-generativeai<0.9.0,>=0.8.0->langchain-google-genai) (0.2.0)\n",
            "Requirement already satisfied: uritemplate<5,>=3.0.1 in /usr/local/lib/python3.10/dist-packages (from google-api-python-client->google-generativeai<0.9.0,>=0.8.0->langchain-google-genai) (4.1.1)\n",
            "Requirement already satisfied: grpcio<2.0dev,>=1.33.2 in /usr/local/lib/python3.10/dist-packages (from google-api-core[grpc]!=2.0.*,!=2.1.*,!=2.10.*,!=2.2.*,!=2.3.*,!=2.4.*,!=2.5.*,!=2.6.*,!=2.7.*,!=2.8.*,!=2.9.*,<3.0.0dev,>=1.34.1->google-ai-generativelanguage==0.6.10->google-generativeai<0.9.0,>=0.8.0->langchain-google-genai) (1.68.1)\n",
            "Requirement already satisfied: grpcio-status<2.0.dev0,>=1.33.2 in /usr/local/lib/python3.10/dist-packages (from google-api-core[grpc]!=2.0.*,!=2.1.*,!=2.10.*,!=2.2.*,!=2.3.*,!=2.4.*,!=2.5.*,!=2.6.*,!=2.7.*,!=2.8.*,!=2.9.*,<3.0.0dev,>=1.34.1->google-ai-generativelanguage==0.6.10->google-generativeai<0.9.0,>=0.8.0->langchain-google-genai) (1.62.3)\n",
            "Requirement already satisfied: pyparsing!=3.0.0,!=3.0.1,!=3.0.2,!=3.0.3,<4,>=2.4.2 in /usr/local/lib/python3.10/dist-packages (from httplib2<1.dev0,>=0.19.0->google-api-python-client->google-generativeai<0.9.0,>=0.8.0->langchain-google-genai) (3.2.0)\n",
            "Requirement already satisfied: pyasn1<0.7.0,>=0.4.6 in /usr/local/lib/python3.10/dist-packages (from pyasn1-modules>=0.2.1->google-auth>=2.15.0->google-generativeai<0.9.0,>=0.8.0->langchain-google-genai) (0.6.1)\n",
            "Requirement already satisfied: sniffio>=1.1 in /usr/local/lib/python3.10/dist-packages (from anyio->httpx<1,>=0.23.0->langsmith<0.3,>=0.1.17->langchain) (1.3.1)\n",
            "Requirement already satisfied: exceptiongroup in /usr/local/lib/python3.10/dist-packages (from anyio->httpx<1,>=0.23.0->langsmith<0.3,>=0.1.17->langchain) (1.2.2)\n",
            "Downloading langchain_google_genai-2.0.7-py3-none-any.whl (41 kB)\n",
            "\u001b[2K   \u001b[90m━━━━━━━━━━━━━━━━━━━━━━━━━━━━━━━━━━━━━━━━\u001b[0m \u001b[32m41.3/41.3 kB\u001b[0m \u001b[31m1.6 MB/s\u001b[0m eta \u001b[36m0:00:00\u001b[0m\n",
            "\u001b[?25hDownloading filetype-1.2.0-py2.py3-none-any.whl (19 kB)\n",
            "Installing collected packages: filetype, langchain-google-genai\n",
            "Successfully installed filetype-1.2.0 langchain-google-genai-2.0.7\n"
          ]
        }
      ],
      "source": [
        "\n",
        "!pip install langchain langchain-google-genai\n",
        "#!pip install langchain-google-genai (SDK) apikey generate"
      ]
    },
    {
      "cell_type": "markdown",
      "source": [
        "Step 1: The Command Breakdown\n",
        "The command installs two Python packages using the pip package manager:\n",
        "\n",
        "langchain:\n",
        "Installs the core LangChain framework, which is used for building applications with workflows involving Large Language Models (LLMs).\n",
        "langchain-google-genai:\n",
        "Installs LangChain's integration with Google Generative AI, such as Google's Vertex AI and PaLM models, enabling you to leverage Google’s generative models in LangChain workflows.\n",
        "The ! at the beginning indicates that the command is being run in a Jupyter Notebook or similar environment to invoke a shell command.\n",
        "The command !pip install langchain langchain-google-genai is used to install LangChain and its Google GenAI integration, enabling developers to build AI applications that combine the power of LangChain's framework with Google Generative AI models (like PaLM or Vertex AI). Below is an explanation of the purpose and why you would use these packages:\n",
        "\n",
        "1. Purpose of LangChain\n",
        "LangChain is a framework for building applications that utilize Large Language Models (LLMs) in complex workflows. It helps developers:\n",
        "\n",
        "Chain together multiple LLM calls to solve tasks requiring step-by-step reasoning or multiple operations.\n",
        "Integrate external tools, such as APIs, databases, or web scraping systems.\n",
        "Add memory capabilities for stateful AI systems (e.g., chatbots that remember context).\n",
        "Build robust applications like chatbots, question-answering systems, or agents.\n",
        "2. Purpose of LangChain-Google-GenAI\n",
        "The langchain-google-genai package adds support for Google Generative AI models to LangChain. These models include:\n",
        "\n",
        "PaLM (Pathways Language Model): A large, state-of-the-art language model by Google.\n",
        "Vertex AI: A platform for deploying and managing AI models.\n",
        "This integration allows developers to:\n",
        "\n",
        "Use Google’s powerful LLMs in LangChain workflows.\n",
        "Leverage Vertex AI for tasks like text generation, summarization, or conversational AI.\n",
        "Combine Google’s capabilities with LangChain’s tools, memory, and agents.\n",
        "Why Use These Packages?\n",
        "A. Use Case 1: Building Intelligent Applications\n",
        "LangChain provides the structure to build complex AI workflows, while Google GenAI offers high-performance generative models. Together, they can:\n",
        "\n",
        "Generate creative text (e.g., stories, blogs).\n",
        "Perform summarization, translation, or data augmentation.\n",
        "Build interactive conversational agents or chatbots.\n",
        "B. Use Case 2: Leveraging Google’s AI Models\n",
        "Google’s models, like PaLM, are powerful, reliable, and scalable, making them ideal for enterprise-grade applications. With LangChain, you can:\n",
        "\n",
        "Dynamically interact with these models.\n",
        "Integrate Google AI into multi-step workflows (e.g., combining search, retrieval, and generation).\n",
        "C. Use Case 3: Adding Memory to AI Applications\n",
        "LangChain’s memory capabilities allow:\n",
        "\n",
        "Stateful conversations (e.g., remembering user preferences).\n",
        "Integration of context over multiple interactions.\n",
        "D. Use Case 4: Augmenting LLMs with External Data\n",
        "LangChain supports retrieval-based workflows where the AI can:\n",
        "\n",
        "Fetch information from databases or APIs.\n",
        "Use Google GenAI to process and generate responses based on real-time data.\n",
        "E. Use Case 5: Agents and Tool Integration\n",
        "LangChain enables the creation of agents that:\n",
        "\n",
        "Dynamically decide what tools (e.g., search APIs, databases) to use.\n",
        "Use Google GenAI for language generation and reasoning tasks.\n",
        "Benefits of Using LangChain and LangChain-Google-GenAI\n",
        "Combining Power of Framework and Model:\n",
        "LangChain provides the structure; Google GenAI provides the intelligence.\n",
        "Dynamic and Scalable Workflows:\n",
        "Easily build multi-step applications or agents that integrate various tools.\n",
        "High-Performance Models:\n",
        "Leverage Google’s generative AI models for advanced natural language tasks.\n",
        "Flexibility:\n",
        "Integrate additional tools, databases, or APIs into your workflows.\n",
        "Conclusion\n",
        "Using !pip install langchain langchain-google-genai sets up your environment to build powerful, feature-rich AI applications by combining LangChain's flexible framework with Google’s cutting-edge Generative AI models. This combination is ideal for creating chatbots, question-answering systems, or any application requiring sophisticated natural language understanding and generation."
      ],
      "metadata": {
        "id": "58D4Y2nuqNaO"
      }
    },
    {
      "cell_type": "code",
      "source": [
        "import langchain_google_genai as genai#(import SDK)"
      ],
      "metadata": {
        "id": "p600k_x5t3GM"
      },
      "execution_count": 2,
      "outputs": []
    },
    {
      "cell_type": "markdown",
      "source": [
        "import langchain_google_genai as genai imports the Google GenAI integration module for the LangChain framework. This module allows developers to connect and utilize Google's Generative AI models, such as PaLM or Vertex AI, directly within LangChain workflows.\n",
        "What is langchain_google_genai?\n",
        "langchain_google_genai is an extension package for the LangChain framework. It provides the tools and components needed to integrate Google's Generative AI services into LangChain-based applications. This package bridges the gap between LangChain’s flexible framework for building AI applications and Google’s powerful language models (e.g., PaLM) available through the Vertex AI platform.\n",
        "Key Features of langchain_google_genai\n",
        "Access to Google’s Generative Models:\n",
        "\n",
        "Utilize Google's large-scale language models for tasks such as text generation, summarization, or question-answering.\n",
        "Integration with LangChain:\n",
        "\n",
        "Easily plug Google’s GenAI models into LangChain’s chains, agents, and workflows.\n",
        "Support for Vertex AI:\n",
        "\n",
        "Leverage Google’s managed infrastructure for secure, scalable, and high-performance generative AI.\n",
        "Flexibility:\n",
        "\n",
        "Combine Google’s generative models with LangChain’s tools like memory, retrievers, or external APIs to build dynamic, stateful AI systems.\n",
        "Capabilities of langchain_google_genai\n",
        "1. Text Generation\n",
        "Generate high-quality, human-like text responses for prompts or user queries.\n",
        "\n",
        "2. Question Answering\n",
        "Build systems that can answer user questions using Google GenAI’s capabilities.\n",
        "\n",
        "3. Summarization\n",
        "Automatically summarize long texts, making it useful for applications like document analysis.\n",
        "\n",
        "4. Stateful Conversations\n",
        "Combine Google GenAI with LangChain’s memory to build conversational agents that remember context over multiple interactions.\n",
        "Benefits of langchain_google_genai\n",
        "Combines Power and Flexibility:\n",
        "\n",
        "Use Google’s advanced models with LangChain’s dynamic chaining and memory features.\n",
        "Efficient Development:\n",
        "\n",
        "Reduces the complexity of building workflows that integrate LLMs and external tools.\n",
        "Enterprise-Grade Infrastructure:\n",
        "\n",
        "Leverage Google Cloud’s scalable and secure environment.\n",
        "Wide Range of Use Cases:\n",
        "\n",
        "Build conversational agents, summarization tools, or custom AI-powered workflows.\n"
      ],
      "metadata": {
        "id": "wpGd36xcsJcK"
      }
    },
    {
      "cell_type": "code",
      "source": [
        "from langchain_google_genai import ChatGoogleGenerativeAI#connectivity through langchain, generative ai model import"
      ],
      "metadata": {
        "id": "hFNuTzau7fL5"
      },
      "execution_count": 3,
      "outputs": []
    },
    {
      "cell_type": "markdown",
      "source": [
        "1. Purpose of the Line\n",
        "This line imports the ChatGoogleGenerativeAI class from the langchain_google_genai module. The ChatGoogleGenerativeAI class is designed to enable connectivity with Google's Generative AI models through the LangChain framework.\n",
        "\n",
        "2. What is ChatGoogleGenerativeAI?\n",
        "ChatGoogleGenerativeAI is a specialized class provided by LangChain’s integration with Google GenAI services.\n",
        "It allows you to use Google’s advanced Generative AI (e.g., Vertex AI or PaLM) for conversational AI applications.\n",
        "This class is a wrapper that makes it easy to interact with Google's Generative AI using LangChain’s structured workflows.\n",
        "3. Why Use ChatGoogleGenerativeAI?\n",
        "To connect to Google's Generative AI models and use them for tasks such as:\n",
        "Text generation.\n",
        "Conversational AI.\n",
        "Summarization.\n",
        "Question-answering.\n",
        "To leverage LangChain’s tools (e.g., chains, agents, memory) while using Google GenAI as the underlying model.\n",
        "4. Connectivity Through LangChain\n",
        "LangChain simplifies the process of integrating Google’s Generative AI services by:\n",
        "\n",
        "Abstracting Authentication:\n",
        "Automatically uses Google Cloud credentials (via GOOGLE_APPLICATION_CREDENTIALS) for secure access.\n",
        "Streamlined Model Access:\n",
        "The ChatGoogleGenerativeAI class handles interactions with the model’s API, allowing you to focus on the application logic.\n",
        "Integration with Workflows:\n",
        "Easily incorporate Google’s Generative AI into LangChain’s chains, agents, and memory-based systems."
      ],
      "metadata": {
        "id": "dn_VPcEXttIf"
      }
    },
    {
      "cell_type": "code",
      "source": [
        "from google.colab import userdata\n",
        "GOOGLE_API_KEY = userdata.get('GOOGLE_API_KEY')"
      ],
      "metadata": {
        "id": "HoHn94Nj9MCK"
      },
      "execution_count": 4,
      "outputs": []
    },
    {
      "cell_type": "markdown",
      "source": [
        "1. What is userdata in Google Colab?\n",
        "userdata is a module provided in Google Colab to manage sensitive user-specific data (such as API keys, tokens, or passwords) securely.\n",
        "It allows users to store and retrieve such data without hardcoding it into the script, which is crucial for protecting sensitive information.\n",
        "2. Purpose of the Code\n",
        "Why Use userdata.get('GOOGLE_API_KEY')?\n",
        "Security:\n",
        "\n",
        "Avoids hardcoding the API key directly into the script, which could expose sensitive information if the notebook is shared or published.\n",
        "Convenience:\n",
        "\n",
        "Users can input the key once into the Colab session, and the script can retrieve it dynamically without re-entering it multiple times.\n",
        "Flexibility:\n",
        "\n",
        "If you have multiple API keys for different services, you can store and access them by their respective names.\n",
        "Example Scenario:\n",
        "If you're working with Google APIs (e.g., Vertex AI, Maps API), you need an API key for authentication. This key must be kept private and accessed securely to interact with the API.\n",
        "\n",
        "3. What Does userdata.get() Do?\n",
        "userdata.get('GOOGLE_API_KEY'):\n",
        "Retrieves the value of the GOOGLE_API_KEY stored in the Colab session's user data.\n",
        "If the key has not been set, it returns None.\n",
        "Key Advantages of Using userdata\n",
        "Secure Handling:\n",
        "API keys are not exposed in the notebook.\n",
        "Reusable Across Sessions:\n",
        "Once set, the key remains accessible within the session.\n",
        "Dynamic Adaptation:\n",
        "Allows multiple users to input their own keys for shared notebooks."
      ],
      "metadata": {
        "id": "ji5rcSvvubP3"
      }
    },
    {
      "cell_type": "code",
      "source": [
        "model : ChatGoogleGenerativeAI = ChatGoogleGenerativeAI(\n",
        "    model=\"gemini-pro\",# Specify the model to use\n",
        "    api_key=GOOGLE_API_KEY,\n",
        "\n",
        ")"
      ],
      "metadata": {
        "id": "xBRdPuFb8o7M"
      },
      "execution_count": 5,
      "outputs": []
    },
    {
      "cell_type": "markdown",
      "source": [
        "Key Parameters Explained\n",
        "model=\"gemini-pro\":\n",
        "\n",
        "Specifies which version of Google’s Generative AI model to use.\n",
        "\"gemini-pro\" is a high-end version optimized for sophisticated natural language tasks.\n",
        "api_key=GOOGLE_API_KEY:\n",
        "\n",
        "Used for secure authentication to access Google’s Generative AI services.\n",
        "This code is used to: Connect to Google’s Generative AI services using LangChain’s integration.\n",
        "Authenticate securely with an API key.\n",
        "Leverage the power of Google’s Gemini model for advanced natural language processing tasks.\n",
        "Integrate this capability into LangChain workflows for building dynamic and robust AI applications."
      ],
      "metadata": {
        "id": "9UE6qTCCvmWh"
      }
    },
    {
      "cell_type": "code",
      "source": [
        "#Invoke Method: Pass the query to the model:\n",
        "# Ask the model a question\n",
        "response1 = model.invoke(\"Who is the founder of pakistan?\")"
      ],
      "metadata": {
        "id": "hUvKrk4Nb3NO"
      },
      "execution_count": 13,
      "outputs": []
    },
    {
      "cell_type": "markdown",
      "source": [
        "1. What Does This Line Do?\n",
        "This line:\n",
        "\n",
        "Sends the input query \"who is the founder of pakistan?\" to the Generative AI model.\n",
        "Invokes the model's invoke method, which processes the query using the model specified (e.g., \"gemini-pro\").\n",
        "Stores the model’s output in the variable response1.\n",
        "2. Breakdown of Components\n",
        "A. model\n",
        "Represents an instance of the ChatGoogleGenerativeAI class (or another AI model class).\n",
        "This object is initialized with specific parameters such as the model type (e.g., \"gemini-pro\") and API key for authentication.\n",
        "B. invoke Method\n",
        "The invoke method sends a single input (a question, instruction, or text) to the AI model and retrieves the generated response.\n",
        "It handles the request-response cycle:\n",
        "Sends the query to the AI model via API.\n",
        "Retrieves the response generated by the model.\n",
        "C. Input Query: \"who is the founder of pakistan?\"\n",
        "The query is a natural language question that the model will process.\n",
        "The AI uses its training data to understand the query and generate an appropriate response.\n",
        "D. response1\n",
        "Stores the AI model’s output (a string containing the answer).\n",
        "In this case, the expected response would be something like \"The founder of Pakistan is Muhammad Ali Jinnah.\"."
      ],
      "metadata": {
        "id": "nCyuLCtBwN4_"
      }
    },
    {
      "cell_type": "code",
      "source": [
        "print(response1.content)# Output: The variable response1 now contains the AI-generated response, which can be printed or used:"
      ],
      "metadata": {
        "colab": {
          "base_uri": "https://localhost:8080/"
        },
        "id": "Kww9sOJAcDDQ",
        "outputId": "b57610cc-be6c-43ea-cba4-3c43c9b37c5c"
      },
      "execution_count": 14,
      "outputs": [
        {
          "output_type": "stream",
          "name": "stdout",
          "text": [
            "Muhammad Ali Jinnah\n"
          ]
        }
      ]
    }
  ]
}